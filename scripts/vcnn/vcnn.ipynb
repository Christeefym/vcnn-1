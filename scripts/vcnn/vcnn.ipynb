{
 "cells": [
  {
   "cell_type": "markdown",
   "metadata": {},
   "source": [
    "Program to access bram from ARM and ACC\n",
    "\n",
    "Addr Map:  \n",
    "input_bram   = 0x4000_0000 to 0x4000_1FFF  \n",
    "weight_bram  = 0x4200_0000 to 0x4200_1FFF  \n",
    "axi_slave0   = 0x43C0_0000 to 0x43C0_FFFF  \n",
    "axi_slave1   = 0x43C1_0000 to 0x43C1_FFFF  \n",
    "output_bram  = 0x4400_0000 to 0x4400_3FFF  "
   ]
  },
  {
   "cell_type": "code",
   "execution_count": 1,
   "metadata": {},
   "outputs": [
    {
     "name": "stdout",
     "output_type": "stream",
     "text": [
      "add scalar in: 01000000\n"
     ]
    }
   ],
   "source": [
    "from pynq import Overlay\n",
    "from pynq import MMIO\n",
    "\n",
    "ol = Overlay(\"/home/xilinx/jupyter_notebooks/vcnn/vcnn_naive_v2.bit\")\n",
    "ol.download()\n",
    "\n",
    "#ip0\n",
    "conv0_config = MMIO(0x43C00000,0x10000)\n",
    "conv1_config = MMIO(0x43C10000,0x10000)\n",
    "bram_ip = MMIO(0x40000000,0x1000)\n",
    "#bram_weight = MMIO(0x42000000,0x1000)\n",
    "bram_output = MMIO(0x44000000,0x8000)\n",
    "\n",
    "#Trial read - expected ready bit to be 1.\n",
    "print(\"add scalar in:\",format(conv0_config.read(0x0), '08x'))"
   ]
  },
  {
   "cell_type": "code",
   "execution_count": 31,
   "metadata": {},
   "outputs": [
    {
     "name": "stdout",
     "output_type": "stream",
     "text": [
      "add scalar in: 00dcba98\n"
     ]
    }
   ],
   "source": [
    "#axislave 24bit only writes!! Last 8 bits are read only!!\n",
    "\n",
    "#reg wr rd check\n",
    "conv0_config.write(0xC,0xFEDCBA98)\n",
    "print(\"add scalar in:\",format(conv0_config.read(0xC), '08x'))"
   ]
  },
  {
   "cell_type": "code",
   "execution_count": 32,
   "metadata": {},
   "outputs": [
    {
     "name": "stdout",
     "output_type": "stream",
     "text": [
      "add scalar in: 12345678\n"
     ]
    }
   ],
   "source": [
    "#bram write and read - is complete!!!\n",
    "\n",
    "bram_ip.write(0x0,0x12345678)\n",
    "print(\"add scalar in:\",format(bram_ip.read(0x0), '08x'))\n",
    "#print(\"add scalar in:\",format(bram_ip.read(0x0), '08x'))"
   ]
  },
  {
   "cell_type": "code",
   "execution_count": 10,
   "metadata": {},
   "outputs": [
    {
     "name": "stdout",
     "output_type": "stream",
     "text": [
      "BRAM Op: 00005555\n",
      "BRAM Op: 00005555\n",
      "BRAM Op: 00005555\n",
      "BRAM Op: 00005555\n",
      "BRAM Op: 00005555\n"
     ]
    }
   ],
   "source": [
    "#to be read by acc - reset here\n",
    "bram_output.write(0x0,0x55555555)\n",
    "bram_output.write(0x4,0x55555555)\n",
    "bram_output.write(0x8,0x55555555)\n",
    "bram_output.write(0xC,0x55555555)\n",
    "bram_output.write(0x10,0x55555555)\n",
    "\n",
    "print(\"BRAM Op:\",format(bram_output.read(0x0), '08x'))\n",
    "print(\"BRAM Op:\",format(bram_output.read(0x4), '08x'))\n",
    "print(\"BRAM Op:\",format(bram_output.read(0x8), '08x'))\n",
    "print(\"BRAM Op:\",format(bram_output.read(0xC), '08x'))\n",
    "print(\"BRAM Op:\",format(bram_output.read(0x10), '08x'))\n",
    "\n",
    "#print(bram_wr_ctrl.read(0x0))"
   ]
  },
  {
   "cell_type": "code",
   "execution_count": 58,
   "metadata": {},
   "outputs": [
    {
     "name": "stdout",
     "output_type": "stream",
     "text": [
      "BRAM Ip: 55555555\n",
      "BRAM Ip: 55555555\n",
      "BRAM Ip: 55555555\n",
      "BRAM Ip: 55555555\n",
      "BRAM Ip: 55555555\n"
     ]
    }
   ],
   "source": [
    "#to be read by acc - reset here\n",
    "bram_ip.write(0x0,0x55555555)\n",
    "bram_ip.write(0x4,0x55555555)\n",
    "bram_ip.write(0x8,0x55555555)\n",
    "bram_ip.write(0xC,0x55555555)\n",
    "bram_ip.write(0x10,0x55555555)\n",
    "\n",
    "print(\"BRAM Ip:\",format(bram_ip.read(0x0), '08x'))\n",
    "print(\"BRAM Ip:\",format(bram_ip.read(0x4), '08x'))\n",
    "print(\"BRAM Ip:\",format(bram_ip.read(0x8), '08x'))\n",
    "print(\"BRAM Ip:\",format(bram_ip.read(0xC), '08x'))\n",
    "print(\"BRAM Ip:\",format(bram_ip.read(0x10), '08x'))"
   ]
  },
  {
   "cell_type": "code",
   "execution_count": 60,
   "metadata": {},
   "outputs": [
    {
     "name": "stdout",
     "output_type": "stream",
     "text": [
      "BRAM Wt: 55555555\n",
      "BRAM Wt: 55555555\n",
      "BRAM Wt: 55555555\n",
      "BRAM Wt: 55555555\n",
      "BRAM Wt: 55555555\n"
     ]
    }
   ],
   "source": [
    "#to be read by acc - reset here\n",
    "#bram_weight.write(0x0,0x55555555)\n",
    "#bram_weight.write(0x4,0x55555555)\n",
    "#bram_weight.write(0x8,0x55555555)\n",
    "#bram_weight.write(0xC,0x55555555)\n",
    "#bram_weight.write(0x10,0x55555555)\n",
    "\n",
    "#print(\"BRAM Wt:\",format(bram_weight.read(0x0), '08x'))\n",
    "#print(\"BRAM Wt:\",format(bram_weight.read(0x4), '08x'))\n",
    "#print(\"BRAM Wt:\",format(bram_weight.read(0x8), '08x'))\n",
    "#print(\"BRAM Wt:\",format(bram_weight.read(0xC), '08x'))\n",
    "#print(\"BRAM Wt:\",format(bram_weight.read(0x10), '08x'))"
   ]
  },
  {
   "cell_type": "code",
   "execution_count": 6,
   "metadata": {},
   "outputs": [
    {
     "name": "stdout",
     "output_type": "stream",
     "text": [
      "BRAM Weight: 11112222\n"
     ]
    }
   ],
   "source": [
    "#to be read by acc - weight\n",
    "#bram_weight.write(0x0,2)\n",
    "#print(\"BRAM Weight:\",format(bram_weight.read(0x0), '08x'))"
   ]
  },
  {
   "cell_type": "code",
   "execution_count": 7,
   "metadata": {},
   "outputs": [
    {
     "name": "stdout",
     "output_type": "stream",
     "text": [
      "BRAM Rr: dead9786\n"
     ]
    }
   ],
   "source": [
    "#reset the mem to be written by acc\n",
    "#bram_output.write(0x0,0)\n",
    "print(\"BRAM Rr:\",format(bram_output.read(0x0), '08x'))"
   ]
  },
  {
   "cell_type": "code",
   "execution_count": 2,
   "metadata": {},
   "outputs": [
    {
     "name": "stdout",
     "output_type": "stream",
     "text": [
      "status: 00000001\n"
     ]
    }
   ],
   "source": [
    "#start bit\n",
    "conv0_config.write(0x00,0x00)\n",
    "conv0_config.write(0x00,0x01)\n",
    "#check status\n",
    "print(\"status:\",format(conv0_config.read(0x0), '08x'))"
   ]
  },
  {
   "cell_type": "code",
   "execution_count": 3,
   "metadata": {},
   "outputs": [
    {
     "name": "stdout",
     "output_type": "stream",
     "text": [
      "status: 03000001\n"
     ]
    }
   ],
   "source": [
    "#check done - MSB - 0x03 == done!!\n",
    "print(\"status:\",format(conv0_config.read(0x0), '08x'))"
   ]
  },
  {
   "cell_type": "code",
   "execution_count": 4,
   "metadata": {},
   "outputs": [
    {
     "name": "stdout",
     "output_type": "stream",
     "text": [
      "status: 00000001\n"
     ]
    }
   ],
   "source": [
    "#start bit\n",
    "conv1_config.write(0x00,0x00)\n",
    "conv1_config.write(0x00,0x01)\n",
    "#check status\n",
    "print(\"status:\",format(conv1_config.read(0x0), '08x'))"
   ]
  },
  {
   "cell_type": "code",
   "execution_count": 5,
   "metadata": {},
   "outputs": [
    {
     "name": "stdout",
     "output_type": "stream",
     "text": [
      "status: 03000001\n"
     ]
    }
   ],
   "source": [
    "#check done - MSB - 0x03 == done!!\n",
    "print(\"status:\",format(conv1_config.read(0x0), '08x'))"
   ]
  },
  {
   "cell_type": "code",
   "execution_count": 6,
   "metadata": {},
   "outputs": [
    {
     "name": "stdout",
     "output_type": "stream",
     "text": [
      "BRAM Op: 00007c00\n",
      "BRAM Op: 00000000\n",
      "BRAM Op: 00000000\n",
      "BRAM Op: 00007c00\n",
      "BRAM Op: 00000000\n",
      "BRAM Op: 00000000\n"
     ]
    }
   ],
   "source": [
    "print(\"BRAM Op:\",format(bram_output.read(0x0), '08x'))\n",
    "print(\"BRAM Op:\",format(bram_output.read(0x4), '08x'))\n",
    "print(\"BRAM Op:\",format(bram_output.read(0x8), '08x'))\n",
    "print(\"BRAM Op:\",format(bram_output.read(0xC), '08x'))\n",
    "print(\"BRAM Op:\",format(bram_output.read(0x10), '08x'))\n",
    "print(\"BRAM Op:\",format(bram_output.read(0x14), '08x'))"
   ]
  },
  {
   "cell_type": "code",
   "execution_count": 16,
   "metadata": {
    "collapsed": true
   },
   "outputs": [],
   "source": [
    "#to be read by acc - reset here\n",
    "#bram_weight.write(0x0,0x11112222)\n",
    "#bram_weight.write(0x4,0x33334444)\n",
    "#bram_weight.write(0x8,0x55556666)\n",
    "#bram_weight.write(0xC,0x77778888)\n",
    "#bram_weight.write(0x10,0x9999AAAA)\n",
    "#bram_weight.write(0x10,0x11112222)\n",
    "#bram_weight.write(0x14,0x33334444)\n",
    "#bram_weight.write(0x18,0x55556666)\n",
    "#bram_weight.write(0x1C,0x77778888)"
   ]
  },
  {
   "cell_type": "code",
   "execution_count": 17,
   "metadata": {
    "collapsed": true
   },
   "outputs": [],
   "source": [
    "#to be read by acc - reset here\n",
    "#bram_weight.write(0x0,0x00020003)\n",
    "#bram_weight.write(0x4,0x00030002)\n",
    "#bram_weight.write(0x8,0x40001)\n",
    "#bram_weight.write(0xC,0x10004)\n",
    "#bram_weight.write(0x10,0x40001)\n",
    "#bram_weight.write(0x10,0x20003)\n",
    "#bram_weight.write(0x14,0x30002)\n",
    "#bram_weight.write(0x18,0x40001)\n",
    "#bram_weight.write(0x1C,0x10002)"
   ]
  },
  {
   "cell_type": "code",
   "execution_count": 18,
   "metadata": {
    "collapsed": true
   },
   "outputs": [],
   "source": [
    "#to be read by acc - reset here\n",
    "bram_ip.write(0x0,0x11112222)\n",
    "bram_ip.write(0x4,0x33334444)\n",
    "bram_ip.write(0x8,0x55556666)\n",
    "bram_ip.write(0xC,0x77778888)\n",
    "bram_ip.write(0x10,0x9999AAAA)\n",
    "bram_ip.write(0x10,0x11112222)\n",
    "bram_ip.write(0x14,0x33334444)\n",
    "bram_ip.write(0x18,0x55556666)\n",
    "bram_ip.write(0x1C,0x77778888)"
   ]
  },
  {
   "cell_type": "code",
   "execution_count": 19,
   "metadata": {},
   "outputs": [
    {
     "name": "stdout",
     "output_type": "stream",
     "text": [
      "status: 00000001\n",
      "status: 00000001\n",
      "BRAM Op: 00007c00\n"
     ]
    }
   ],
   "source": [
    "#to be read by acc\n",
    "#bram_weight.write(0x0,0x11111111)\n",
    "#print(\"BRAM Wr:\",bram_weight.read(0x0))\n",
    "\n",
    "#start bit\n",
    "conv0_config.write(0x00,0x00)\n",
    "conv0_config.write(0x00,0x01)\n",
    "\n",
    "#check status\n",
    "print(\"status:\",format(conv0_config.read(0x0), '08x'))\n",
    "\n",
    "#start bit\n",
    "conv1_config.write(0x00,0x00)\n",
    "conv1_config.write(0x00,0x01)\n",
    "#check status\n",
    "print(\"status:\",format(conv1_config.read(0x0), '08x'))\n",
    "\n",
    "#read the result by the acc\n",
    "print(\"BRAM Op:\",format(bram_output.read(0x0), '08x'))"
   ]
  },
  {
   "cell_type": "code",
   "execution_count": 20,
   "metadata": {},
   "outputs": [
    {
     "name": "stdout",
     "output_type": "stream",
     "text": [
      "BRAM Op: 00007c00\n",
      "BRAM Op: 00007c00\n",
      "BRAM Op: 00007c00\n",
      "BRAM Op: 00007c00\n",
      "BRAM Op: 00007c00\n",
      "BRAM Op: 00007c00\n",
      "BRAM Op: 00007c00\n",
      "BRAM Op: 00007c00\n"
     ]
    }
   ],
   "source": [
    "print(\"BRAM Op:\",format(bram_output.read(0x0), '08x'))\n",
    "print(\"BRAM Op:\",format(bram_output.read(0x4), '08x'))\n",
    "print(\"BRAM Op:\",format(bram_output.read(0x8), '08x'))\n",
    "print(\"BRAM Op:\",format(bram_output.read(0xC), '08x'))\n",
    "print(\"BRAM Op:\",format(bram_output.read(0x10), '08x'))\n",
    "print(\"BRAM Op:\",format(bram_output.read(0x14), '08x'))\n",
    "print(\"BRAM Op:\",format(bram_output.read(0x18), '08x'))\n",
    "print(\"BRAM Op:\",format(bram_output.read(0x1C), '08x'))"
   ]
  },
  {
   "cell_type": "code",
   "execution_count": null,
   "metadata": {
    "collapsed": true
   },
   "outputs": [],
   "source": []
  }
 ],
 "metadata": {
  "kernelspec": {
   "display_name": "Python 3",
   "language": "python",
   "name": "python3"
  },
  "language_info": {
   "codemirror_mode": {
    "name": "ipython",
    "version": 3
   },
   "file_extension": ".py",
   "mimetype": "text/x-python",
   "name": "python",
   "nbconvert_exporter": "python",
   "pygments_lexer": "ipython3",
   "version": "3.6.0"
  }
 },
 "nbformat": 4,
 "nbformat_minor": 2
}
