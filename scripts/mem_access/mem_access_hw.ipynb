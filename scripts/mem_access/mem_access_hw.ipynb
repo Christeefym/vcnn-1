{
 "cells": [
  {
   "attachments": {},
   "cell_type": "markdown",
   "metadata": {},
   "source": [
    "Program to access bram from ARM and ACC"
   ]
  },
  {
   "cell_type": "code",
   "execution_count": 24,
   "metadata": {},
   "outputs": [
    {
     "name": "stdout",
     "output_type": "stream",
     "text": [
      "add scalar in: 12\n"
     ]
    }
   ],
   "source": [
    "from pynq import Overlay\n",
    "from pynq import MMIO\n",
    "\n",
    "ol = Overlay(\"/home/xilinx/jupyter_notebooks/trial1/mem_access_hw.bit\")\n",
    "ol.download()\n",
    "\n",
    "add_ip = MMIO(0x43C00000,0x10000)\n",
    "\n",
    "#port scalar_in - setting to 12\n",
    "add_ip.write(0x18,12)\n",
    "print(\"add scalar in:\",add_ip.read(0x18))\n"
   ]
  },
  {
   "cell_type": "code",
   "execution_count": 25,
   "metadata": {},
   "outputs": [
    {
     "name": "stdout",
     "output_type": "stream",
     "text": [
      "BRAM Wr: 12\n"
     ]
    }
   ],
   "source": [
    "bram_wr_ctrl = MMIO(0x40000000,0x2000)\n",
    "\n",
    "#to be read by acc\n",
    "bram_wr_ctrl.write(0x0,12)\n",
    "print(\"BRAM Wr:\",bram_wr_ctrl.read(0x0))"
   ]
  },
  {
   "cell_type": "code",
   "execution_count": 26,
   "metadata": {},
   "outputs": [
    {
     "name": "stdout",
     "output_type": "stream",
     "text": [
      "BRAM Rd: 0\n"
     ]
    }
   ],
   "source": [
    "bram_rd_ctrl = MMIO(0x42000000,0x2000)\n",
    "\n",
    "#reset the mem to be written by acc\n",
    "bram_rd_ctrl.write(0x0,0)\n",
    "print(\"BRAM Rd:\",bram_rd_ctrl.read(0x0))"
   ]
  },
  {
   "cell_type": "code",
   "execution_count": 29,
   "metadata": {},
   "outputs": [
    {
     "name": "stdout",
     "output_type": "stream",
     "text": [
      "status: 6\n"
     ]
    }
   ],
   "source": [
    "#start bit\n",
    "add_ip.write(0x00,0x01)\n",
    "#check status\n",
    "print(\"status:\",add_ip.read(0x00))"
   ]
  },
  {
   "cell_type": "code",
   "execution_count": 30,
   "metadata": {},
   "outputs": [
    {
     "name": "stdout",
     "output_type": "stream",
     "text": [
      "BRAM Rd: 24\n"
     ]
    }
   ],
   "source": [
    "#read the result by the acc = bram_mem_value[0:1023] + scalar_in\n",
    "print(\"BRAM Rd:\",bram_rd_ctrl.read(0x0))"
   ]
  },
  {
   "cell_type": "code",
   "execution_count": null,
   "metadata": {},
   "outputs": [],
   "source": []
  },
  {
   "cell_type": "code",
   "execution_count": null,
   "metadata": {},
   "outputs": [],
   "source": []
  },
  {
   "cell_type": "code",
   "execution_count": null,
   "metadata": {},
   "outputs": [],
   "source": []
  },
  {
   "cell_type": "code",
   "execution_count": null,
   "metadata": {},
   "outputs": [],
   "source": []
  },
  {
   "cell_type": "code",
   "execution_count": null,
   "metadata": {
    "collapsed": true
   },
   "outputs": [],
   "source": []
  }
 ],
 "metadata": {
  "kernelspec": {
   "display_name": "Python 3",
   "language": "python",
   "name": "python3"
  },
  "language_info": {
   "codemirror_mode": {
    "name": "ipython",
    "version": 3
   },
   "file_extension": ".py",
   "mimetype": "text/x-python",
   "name": "python",
   "nbconvert_exporter": "python",
   "pygments_lexer": "ipython3",
   "version": "3.6.0"
  }
 },
 "nbformat": 4,
 "nbformat_minor": 2
}
